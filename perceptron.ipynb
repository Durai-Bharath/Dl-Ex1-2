{
 "cells": [
  {
   "cell_type": "code",
   "execution_count": null,
   "metadata": {},
   "outputs": [],
   "source": [
    "import torch\n",
    "xin = torch.tensor([[0,0],[0,1],[1,0],[1,1]],dtype=torch.int32)\n",
    "xin\n",
    "yout = torch.tensor([[0],[1],[1],[1]],dtype=torch.int32)\n",
    "yout\n",
    "w1 = 1\n",
    "w2 = -1\n",
    "b = 0\n",
    "a=1\n",
    "for j in range(10):\n",
    "    for i in range(4):\n",
    "        yin = b+(w1*xin[i][0])+(w2*xin[i][1])\n",
    "        \n",
    "        if(yin>0):\n",
    "            y=1\n",
    "        elif(yin==0):\n",
    "            y=0\n",
    "        else:\n",
    "            yin=-1\n",
    "\n",
    "        if(y!=yout[i]):\n",
    "            w1 = w1+(a*yout[i]*xin[i][0])\n",
    "            w2 = w2+(a*yout[i]*xin[i][1])\n",
    "            b = b+(a*yout[i])\n",
    "\n",
    "        else:\n",
    "            w1 = w1\n",
    "            w2 = w2\n",
    "            b = b\n",
    "        print(\"Epoch = \",j,\"yin Value = \",yin,\"y value = \",y,\"Weights And Bias = \",w1,\" \",w2,\" \",b,\" \")\n"
   ]
  },
  {
   "cell_type": "code",
   "execution_count": null,
   "metadata": {},
   "outputs": [],
   "source": []
  }
 ],
 "metadata": {
  "kernelspec": {
   "display_name": "Python 3",
   "language": "python",
   "name": "python3"
  },
  "language_info": {
   "name": "python",
   "version": "3.10.0 (tags/v3.10.0:b494f59, Oct  4 2021, 19:00:18) [MSC v.1929 64 bit (AMD64)]"
  },
  "orig_nbformat": 4,
  "vscode": {
   "interpreter": {
    "hash": "26de051ba29f2982a8de78e945f0abaf191376122a1563185a90213a26c5da77"
   }
  }
 },
 "nbformat": 4,
 "nbformat_minor": 2
}
