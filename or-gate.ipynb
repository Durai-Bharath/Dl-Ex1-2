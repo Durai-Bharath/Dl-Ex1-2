{
 "cells": [
  {
   "cell_type": "code",
   "execution_count": 21,
   "id": "378b0137-5bc3-4944-9f47-923ba134e82a",
   "metadata": {},
   "outputs": [],
   "source": [
    "import numpy as np\n",
    "\n",
    "def or_gate(x):\n",
    "    w = np.array([1,1])\n",
    "    b=-0.5\n",
    "    return perceptronModel(x,w,b)\n",
    "def perceptronModel(x,w,b):\n",
    "    v=np.dot(w,x)+b\n",
    "    y=unitstep(v)\n",
    "    return y\n",
    "def unitstep(v):\n",
    "    if v >= 0:\n",
    "        return 1\n",
    "    else:\n",
    "        return 0"
   ]
  },
  {
   "cell_type": "code",
   "execution_count": 24,
   "id": "b7e664f2-cfbd-4dad-8931-fedf6ae94966",
   "metadata": {},
   "outputs": [],
   "source": [
    "test1 = np.array([0, 1])\n",
    "test2 = np.array([1, 1])\n",
    "test3 = np.array([0, 0])\n",
    "test4 = np.array([1, 0])"
   ]
  },
  {
   "cell_type": "code",
   "execution_count": 26,
   "id": "53557bb7-8b89-43a5-a3bc-ae1c5e2c91e4",
   "metadata": {},
   "outputs": [
    {
     "name": "stdout",
     "output_type": "stream",
     "text": [
      "AND(0, 1) = 1\n",
      "AND(1, 1) = 1\n",
      "AND(0, 0) = 0\n",
      "AND(1, 0) = 1\n"
     ]
    }
   ],
   "source": [
    "print(\"AND({}, {}) = {}\".format(0, 1, or_gate(test1)))\n",
    "print(\"AND({}, {}) = {}\".format(1, 1, or_gate(test2)))\n",
    "print(\"AND({}, {}) = {}\".format(0, 0, or_gate(test3)))\n",
    "print(\"AND({}, {}) = {}\".format(1, 0, or_gate(test4)))"
   ]
  },
  {
   "cell_type": "code",
   "execution_count": null,
   "id": "78899ef9-f3ca-4639-a898-573b9c289e90",
   "metadata": {},
   "outputs": [],
   "source": []
  }
 ],
 "metadata": {
  "kernelspec": {
   "display_name": "Python 3 (ipykernel)",
   "language": "python",
   "name": "python3"
  },
  "language_info": {
   "codemirror_mode": {
    "name": "ipython",
    "version": 3
   },
   "file_extension": ".py",
   "mimetype": "text/x-python",
   "name": "python",
   "nbconvert_exporter": "python",
   "pygments_lexer": "ipython3",
   "version": "3.9.15"
  }
 },
 "nbformat": 4,
 "nbformat_minor": 5
}
